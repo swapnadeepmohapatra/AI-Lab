{
 "cells": [
  {
   "cell_type": "code",
   "id": "initial_id",
   "metadata": {
    "collapsed": true,
    "ExecuteTime": {
     "end_time": "2024-12-18T16:02:12.990080Z",
     "start_time": "2024-12-18T16:02:12.809346Z"
    }
   },
   "source": [
    "import pandas as pd\n",
    "import nltk\n",
    "import re\n",
    "from sklearn.feature_extraction.text import TfidfVectorizer\n",
    "from sklearn.feature_extraction.text import CountVectorizer\n",
    "from sklearn.tree import DecisionTreeClassifier\n",
    "from matplotlib import pyplot as plt"
   ],
   "outputs": [],
   "execution_count": 6
  },
  {
   "metadata": {
    "ExecuteTime": {
     "end_time": "2024-12-18T15:54:02.804679Z",
     "start_time": "2024-12-18T15:54:01.373570Z"
    }
   },
   "cell_type": "code",
   "source": [
    "df = pd.read_csv(\"training.csv\", encoding='latin1')\n",
    "sentences = df.iloc[:, 5].tolist()\n",
    "\n",
    "labels = df.iloc[:, 0].tolist()\n",
    "\n",
    "stop_words_file = open(\"stop-words-list.txt\", \"r\")\n",
    "stop_words = stop_words_file.read().split(\"\\n\")\n",
    "stop_words_file.close()"
   ],
   "id": "148b20049ff20de6",
   "outputs": [],
   "execution_count": 3
  },
  {
   "metadata": {
    "ExecuteTime": {
     "end_time": "2024-12-18T15:54:38.486639Z",
     "start_time": "2024-12-18T15:54:05.113377Z"
    }
   },
   "cell_type": "code",
   "source": [
    "for i in range(len(sentences)):\n",
    "    sentences[i] = sentences[i].lower()\n",
    "    sentences[i] = re.sub(r'[^a-zA-Z\\s]', '', sentences[i])\n",
    "    tokens = nltk.word_tokenize(sentences[i])\n",
    "    filtered_tokens = [token for token in tokens if token not in stop_words]\n",
    "    sentences[i] = filtered_tokens\n",
    "    sentences[i] = \" \".join(sentences[i])"
   ],
   "id": "ccef4b4a86a2fbc3",
   "outputs": [],
   "execution_count": 4
  },
  {
   "metadata": {
    "ExecuteTime": {
     "end_time": "2024-12-18T16:02:08.291522Z",
     "start_time": "2024-12-18T16:01:59.474632Z"
    }
   },
   "cell_type": "code",
   "source": [
    "tfidf = TfidfVectorizer()\n",
    "\n",
    "cont = CountVectorizer()\n",
    "cont.fit(sentences)\n",
    "\n",
    "result = tfidf.fit_transform(sentences)"
   ],
   "id": "bd06f8189880698",
   "outputs": [],
   "execution_count": 5
  },
  {
   "metadata": {
    "jupyter": {
     "is_executing": true
    },
    "ExecuteTime": {
     "start_time": "2024-12-18T16:32:45.566524Z"
    }
   },
   "cell_type": "code",
   "source": [
    "decision_tree = DecisionTreeClassifier()\n",
    "decision_tree.fit(result, labels)\n",
    "print(decision_tree.predict([\"she has to quit her company, such a shame\"]))"
   ],
   "id": "20759c3cdbed600b",
   "outputs": [],
   "execution_count": null
  }
 ],
 "metadata": {
  "kernelspec": {
   "display_name": "Python 3",
   "language": "python",
   "name": "python3"
  },
  "language_info": {
   "codemirror_mode": {
    "name": "ipython",
    "version": 2
   },
   "file_extension": ".py",
   "mimetype": "text/x-python",
   "name": "python",
   "nbconvert_exporter": "python",
   "pygments_lexer": "ipython2",
   "version": "2.7.6"
  }
 },
 "nbformat": 4,
 "nbformat_minor": 5
}
